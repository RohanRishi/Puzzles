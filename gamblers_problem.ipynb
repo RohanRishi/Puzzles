{
 "cells": [
  {
   "cell_type": "code",
   "execution_count": 1,
   "metadata": {},
   "outputs": [],
   "source": [
    "import numpy as np\n",
    "import pandas as pd\n",
    "import matplotlib.pyplot as plt\n",
    "import seaborn as sns\n",
    "\n",
    "sns.set()"
   ]
  },
  {
   "cell_type": "code",
   "execution_count": 2,
   "metadata": {},
   "outputs": [],
   "source": [
    "## This is what chatGPT produced. I recreated my own code to learn better, but this could be a good reference.\n",
    "# import numpy as np\n",
    "\n",
    "# def value_iteration_for_gamblers(p_h, theta=0.000001, discount_factor=1.0):\n",
    "#     \"\"\"\n",
    "#     Args:\n",
    "#     p_h: Probability of the coin coming up heads\n",
    "#     theta: Threshold used for value iteration\n",
    "#     discount_factor: MDP discount factor.\n",
    "\n",
    "#     Returns:\n",
    "#     A tuple (policy, value_function).\n",
    "#     \"\"\"\n",
    "#     def one_step_lookahead(s, V, rewards):\n",
    "#         \"\"\"\n",
    "#         Helper function to calculate the value for all actions in a given state.\n",
    "#         \"\"\"\n",
    "#         A = np.zeros(101)\n",
    "#         stakes = range(1, min(s, 100 - s) + 1)  # The possible stakes\n",
    "#         for a in stakes:\n",
    "#             # Win scenario\n",
    "#             A[a] += p_h * (rewards[s + a] + discount_factor * V[s + a])\n",
    "#             # Lose scenario\n",
    "#             A[a] += (1 - p_h) * (rewards[s - a] + discount_factor * V[s - a])\n",
    "#         return A\n",
    "\n",
    "#     V = np.zeros(101)\n",
    "#     rewards = np.zeros(101)\n",
    "#     rewards[100] = 1\n",
    "#     policy = np.zeros(101)\n",
    "\n",
    "#     while True:\n",
    "#         delta = 0\n",
    "#         for s in range(1, 100):\n",
    "#             A = one_step_lookahead(s, V, rewards)\n",
    "#             best_action_value = np.max(A)\n",
    "#             delta = max(delta, np.abs(best_action_value - V[s]))\n",
    "#             V[s] = best_action_value\n",
    "#         if delta < theta:\n",
    "#             break\n",
    "\n",
    "#     for s in range(1, 100):\n",
    "#         A = one_step_lookahead(s, V, rewards)\n",
    "#         best_action = np.argmax(A)\n",
    "#         policy[s] = best_action\n",
    "\n",
    "#     return policy, V\n",
    "\n",
    "# p_h = 0.4\n",
    "# policy, V = value_iteration_for_gamblers(p_h, theta=1e-50)"
   ]
  },
  {
   "cell_type": "code",
   "execution_count": 3,
   "metadata": {},
   "outputs": [],
   "source": [
    "# states = range(100)\n",
    "# plt.bar(states, V)\n",
    "# plt.xlabel('Capital')\n",
    "# plt.ylabel('Value Estimates')\n",
    "# plt.show()\n",
    "\n",
    "# # policy bar plot\n",
    "# plt.bar(states, policy)"
   ]
  },
  {
   "cell_type": "markdown",
   "metadata": {},
   "source": [
    "# Initializing parameters"
   ]
  },
  {
   "cell_type": "code",
   "execution_count": 100,
   "metadata": {},
   "outputs": [],
   "source": [
    "# states\n",
    "states = np.arange(0, 101)\n",
    "# discount factor\n",
    "gamma = 1\n",
    "# probability of heads(success)\n",
    "p_h = 0.4\n",
    "# initialize value function\n",
    "V = np.zeros(101)\n",
    "V[100] = 1\n",
    "# error threshold\n",
    "epsilon = 1e-20\n",
    "# initialize policy\n",
    "policy = np.zeros(101).astype(int)"
   ]
  },
  {
   "cell_type": "code",
   "execution_count": 8,
   "metadata": {},
   "outputs": [
    {
     "data": {
      "text/plain": [
       "(101, 101)"
      ]
     },
     "execution_count": 8,
     "metadata": {},
     "output_type": "execute_result"
    }
   ],
   "source": [
    "len(V), len(policy)"
   ]
  },
  {
   "cell_type": "markdown",
   "metadata": {},
   "source": [
    "# Initialzing building blocks\n",
    "### - The reward function\n",
    "### - The value function(recursive)\n",
    "### - The action value function"
   ]
  },
  {
   "cell_type": "code",
   "execution_count": 154,
   "metadata": {},
   "outputs": [],
   "source": [
    "# reward function\n",
    "def reward(state):\n",
    "    return 1 if state >= 100 else 0\n",
    "\n",
    "# action value function\n",
    "def q_pi(s, a, V, p_h):\n",
    "    \"\"\"\n",
    "    Args:\n",
    "    s: the current state\n",
    "    a: the action to take\n",
    "    V: the value function\n",
    "    p_h: the probability of the coin coming up heads\n",
    "\n",
    "    Returns:\n",
    "    The value of the state-action pair\n",
    "    \"\"\"\n",
    "    # ensure that the action is valid, and there is no overflow over 100\n",
    "    a = min(a, s, 100 - s)\n",
    "    # stakes = range(1, min(s, 100 - s) + 1)\n",
    "    return p_h * (reward(s + a) + gamma * V[s + a]) + \\\n",
    "     (1 - p_h) * (reward(s - a) + gamma * V[s - a])\n",
    "\n",
    "# value function\n",
    "def v_pi(s, V, policy, p_h):\n",
    "    \"\"\"\n",
    "    Args:\n",
    "    state: the current state\n",
    "    V: the value function\n",
    "    p_h: the probability of the coin coming up heads\n",
    "\n",
    "    Returns:\n",
    "    The value of the state\n",
    "    \"\"\"\n",
    "\n",
    "    return q_pi(s, policy[s], V, p_h)\n",
    "\n"
   ]
  },
  {
   "cell_type": "code",
   "execution_count": 228,
   "metadata": {},
   "outputs": [],
   "source": [
    "# One sweep over the values where we update the value of each state based on the current policy\n",
    "def value_sweeper(V, policy, p_h):\n",
    "\n",
    "    new_V = V.copy()\n",
    "\n",
    "    # notice that our range excludes the terminal state\n",
    "    for i in range(len(new_V)-1):\n",
    "        new_V[i] = q_pi(i, policy[i], new_V, p_h)\n",
    "    \n",
    "    return new_V\n",
    "\n",
    "# policy evaluation - sweep over the values until convergence. This gives us the true value function for the current policy.\n",
    "def policy_evaluation(policy, V, p_h, epsilon, verbose=False, max_iter=1e5):\n",
    "    \"\"\"\n",
    "    Args:\n",
    "    policy: the current policy\n",
    "    V: the current value function\n",
    "    p_h: the probability of the coin coming up heads\n",
    "    epsilon: the error threshold\n",
    "\n",
    "    Returns:\n",
    "    The value function based on the given policy till convergence\n",
    "    \"\"\"\n",
    "    i = 0\n",
    "    while True:\n",
    "        i += 1\n",
    "        delta = 0\n",
    "        new_V = value_sweeper(V, policy, p_h)\n",
    "        delta = max(delta, np.abs(new_V - V).max())\n",
    "        V = new_V\n",
    "        if delta < epsilon or i > max_iter:\n",
    "            break\n",
    "    \n",
    "    if verbose:\n",
    "        print(f'policy evaluation converged after {i} iterations')\n",
    "    \n",
    "    return V\n",
    "\n",
    "# policy improvement - given a value function and a policy, we can improve the policy by acting greedily with respect to the value function\n",
    "def policy_improvement(V, policy, p_h):\n",
    "    for s in range(1, 100):\n",
    "        actions = range(1, min(s, 100 - s) + 1)\n",
    "        policy[s] = actions[np.argmax([q_pi(s, a, V, p_h) for a in actions])]\n",
    "    return policy"
   ]
  },
  {
   "cell_type": "markdown",
   "metadata": {},
   "source": [
    "## Policy iteration - we alternate between policy evaluation and policy improvement until convergence\n",
    "\n",
    "## Value iteration - we alternate between value sweeping and policy improvement until convergence"
   ]
  },
  {
   "cell_type": "code",
   "execution_count": 231,
   "metadata": {},
   "outputs": [
    {
     "data": {
      "image/png": "[encoded data removed]",
      "text/plain": [
       "<Figure size 1500x500 with 2 Axes>"
      ]
     },
     "metadata": {},
     "output_type": "display_data"
    }
   ],
   "source": [
    "# Here, we will do one sweep over the values, and then greedily improve the policy. We will repeat this process until convergence. Only one sweep ensured by max_iter=1.\n",
    "\n",
    "# Initialize values again, just to  be sure\n",
    "V = np.zeros(101)\n",
    "V[100] = 1\n",
    "# policy where we bet min(s, 100-s)\n",
    "# policy = (list(np.arange(50)) + list(np.arange(50, -1, -1)))\n",
    "policy = np.zeros(101).astype(int)\n",
    "\n",
    "for _ in range(100):\n",
    "    # policy evaluation\n",
    "    V = policy_evaluation(policy, V, p_h, epsilon, verbose=False, max_iter=1)\n",
    "    # policy improvement\n",
    "    policy = policy_improvement(V, policy, p_h)\n",
    "\n",
    "# plot both\n",
    "plt.figure(figsize=(15, 5))\n",
    "plt.subplot(1, 2, 1)\n",
    "plt.bar(states, V)\n",
    "plt.xlabel('Capital')\n",
    "plt.ylabel('Value Estimates')\n",
    "plt.subplot(1, 2, 2)\n",
    "plt.bar(states, policy)\n",
    "plt.xlabel('Capital')\n",
    "plt.ylabel('Final policy (stake)')\n",
    "plt.tight_layout()\n",
    "plt.show()\n"
   ]
  },
  {
   "cell_type": "markdown",
   "metadata": {},
   "source": [
    "We don't seem to have converged perfectly to the optimal policy, but we are close enough. Good job! Try to make a dashboard to visualize the value function and the policy."
   ]
  },
  {
   "cell_type": "markdown",
   "metadata": {},
   "source": []
  }
 ],
 "metadata": {
  "kernelspec": {
   "display_name": "lecture_1",
   "language": "python",
   "name": "python3"
  },
  "language_info": {
   "codemirror_mode": {
    "name": "ipython",
    "version": 3
   },
   "file_extension": ".py",
   "mimetype": "text/x-python",
   "name": "python",
   "nbconvert_exporter": "python",
   "pygments_lexer": "ipython3",
   "version": "3.10.12"
  },
  "orig_nbformat": 4
 },
 "nbformat": 4,
 "nbformat_minor": 2
}
